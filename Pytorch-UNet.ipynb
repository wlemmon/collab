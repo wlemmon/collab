{
  "nbformat": 4,
  "nbformat_minor": 0,
  "metadata": {
    "colab": {
      "name": "Untitled1.ipynb",
      "version": "0.3.2",
      "provenance": [],
      "include_colab_link": true
    },
    "kernelspec": {
      "name": "python3",
      "display_name": "Python 3"
    }
  },
  "cells": [
    {
      "cell_type": "markdown",
      "metadata": {
        "id": "view-in-github",
        "colab_type": "text"
      },
      "source": [
        "[View in Colaboratory](https://colab.research.google.com/github/wlemmon/collab/blob/master/Pytorch-UNet.ipynb)"
      ]
    },
    {
      "metadata": {
        "id": "pGhx515SX9Xa",
        "colab_type": "text"
      },
      "cell_type": "markdown",
      "source": [
        "https://github.com/milesial/Pytorch-UNet"
      ]
    },
    {
      "metadata": {
        "id": "n1AtWsvVX_ca",
        "colab_type": "code",
        "colab": {}
      },
      "cell_type": "code",
      "source": [
        ""
      ],
      "execution_count": 0,
      "outputs": []
    },
    {
      "metadata": {
        "id": "CbyLP_ZhX6q0",
        "colab_type": "text"
      },
      "cell_type": "markdown",
      "source": [
        ""
      ]
    }
  ]
}